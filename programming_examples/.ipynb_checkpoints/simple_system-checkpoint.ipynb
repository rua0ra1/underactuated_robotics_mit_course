{
 "cells": [
  {
   "cell_type": "code",
   "execution_count": 1,
   "metadata": {},
   "outputs": [],
   "source": [
    "from pydrake.symbolic import Variable\n",
    "from pydrake.systems.primitives import SymbolicVectorSystem\n",
    "\n",
    "\n"
   ]
  },
  {
   "cell_type": "code",
   "execution_count": 3,
   "metadata": {},
   "outputs": [],
   "source": [
    "pendulum_system = None"
   ]
  },
  {
   "cell_type": "code",
   "execution_count": 4,
   "metadata": {},
   "outputs": [],
   "source": [
    "if pendulum_system is not None:\n",
    "    context = pendulum_system.CreateDefaultContext()\n",
    "    print(context)\n",
    "\n",
    "    # Set the time and state\n",
    "    context.SetTime(4.67)\n",
    "    context.SetContinuousState([2.1, 3.4])\n",
    "    print(context)\n",
    "\n",
    "    # Set an input port to have a fixed value\n",
    "    # (alternatively, we could connect it to the output port of another system).\n",
    "    pendulum_system.get_input_port(0).FixValue(context, [7.89])\n",
    "    print(\n",
    "        f\"Input port 0 value: {pendulum_system.get_input_port(0).Eval(context)}\"\n",
    "    )"
   ]
  },
  {
   "cell_type": "code",
   "execution_count": 5,
   "metadata": {},
   "outputs": [
    {
     "name": "stdout",
     "output_type": "stream",
     "text": [
      "Total score is 0/2.\n",
      "\n",
      "Score for test_dynamics (underactuated.exercises.intro.test_drake_systems.TestDrakeSystems) is 0/1.\n",
      "- Test Failed: 'NoneType' object has no attribute 'CreateDefaultContext'\n",
      "\n",
      "\n",
      "Score for test_input_and_state (underactuated.exercises.intro.test_drake_systems.TestDrakeSystems) is 0/1.\n",
      "- Test Failed: pendulum_system is not a System\n",
      "\n"
     ]
    }
   ],
   "source": [
    "from underactuated.exercises.intro.test_drake_systems import TestDrakeSystems\n",
    "from underactuated.exercises.grader import Grader\n",
    "\n",
    "Grader.grade_output([TestDrakeSystems], [locals()], \"results.json\")\n",
    "Grader.print_test_results(\"results.json\")"
   ]
  },
  {
   "cell_type": "code",
   "execution_count": null,
   "metadata": {},
   "outputs": [],
   "source": []
  }
 ],
 "metadata": {
  "kernelspec": {
   "display_name": "pydrakeenv",
   "language": "python",
   "name": "python3"
  },
  "language_info": {
   "codemirror_mode": {
    "name": "ipython",
    "version": 3
   },
   "file_extension": ".py",
   "mimetype": "text/x-python",
   "name": "python",
   "nbconvert_exporter": "python",
   "pygments_lexer": "ipython3",
   "version": "3.8.10"
  },
  "orig_nbformat": 4
 },
 "nbformat": 4,
 "nbformat_minor": 2
}
