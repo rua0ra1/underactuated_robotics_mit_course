{
 "cells": [
  {
   "cell_type": "code",
   "execution_count": 3,
   "metadata": {},
   "outputs": [],
   "source": [
    "import cvxpy as cv"
   ]
  },
  {
   "cell_type": "code",
   "execution_count": 4,
   "metadata": {},
   "outputs": [
    {
     "data": {
      "text/plain": [
       "-0.500000023454184"
      ]
     },
     "execution_count": 4,
     "metadata": {},
     "output_type": "execute_result"
    }
   ],
   "source": [
    "alpha=cv.Variable()\n",
    "A=cv.bmat([[1,alpha,alpha],[alpha,1,alpha],[alpha,alpha,1]])\n",
    "\n",
    "cv.Problem(cv.Minimize(alpha),[A>>0]).solve()"
   ]
  },
  {
   "cell_type": "code",
   "execution_count": 14,
   "metadata": {},
   "outputs": [
    {
     "name": "stdout",
     "output_type": "stream",
     "text": [
      "[-2.375  1.45 ]\n",
      "[-3.1    0.975]\n",
      "[-3.5875  0.355 ]\n",
      "[-3.765  -0.3625]\n",
      "[-3.58375 -1.1155 ]\n",
      "[-3.026   -1.83225]\n",
      "[-2.109875 -2.43745 ]\n",
      "[-0.89115  -2.859425]\n",
      "[ 0.5385625 -3.037655 ]\n",
      "[ 2.05739   -2.9299425]\n",
      "[ 3.52236125 -2.5184645 ]\n",
      "[ 4.7815935  -1.81399225]\n",
      "[ 5.68858963 -0.85767355]\n",
      "[6.1174264  0.28004438]\n",
      "[5.97740421 1.50352966]\n",
      "[5.22563938 2.6990105 ]\n",
      "[3.87613414 3.74413837]\n",
      "[2.00406495 4.5193652 ]\n",
      "[-0.25561765  4.92017819]\n",
      "[-2.71570675  4.86905466]\n",
      "[-5.15023408  4.32591331]\n",
      "[-7.31319073  3.2958665 ]\n",
      "[-8.96112398  1.83322835]\n",
      "[-9.87773816  0.04100355]\n",
      "[-9.89823993 -1.93454408]\n",
      "[-8.93096789 -3.91419207]\n",
      "[-6.97387186 -5.70038564]\n",
      "[-4.12367904 -7.09516002]\n",
      "[-0.57609903 -7.91989582]\n",
      "[ 3.38384888 -8.03511563]\n"
     ]
    }
   ],
   "source": [
    "# using the semidefinite programming to test the stability of the linear dynamical system\n",
    "# atleast of the linear system we can conclude that if system is stable if a there exits a lyapunov function\n",
    "import numpy as np\n",
    "\n",
    "A=np.array([[1,-0.5],[0.2,1]])\n",
    "ut=[-1.5, 1.75]\n",
    "\n",
    "for _ in range(30):\n",
    "    ut=A@ut\n",
    "    print(ut)\n",
    "\n"
   ]
  },
  {
   "cell_type": "code",
   "execution_count": 17,
   "metadata": {},
   "outputs": [
    {
     "name": "stdout",
     "output_type": "stream",
     "text": [
      "Problem is infeasible.\n"
     ]
    }
   ],
   "source": [
    "# find the lyapunov for the above linear system\n",
    "P=cv.Variable((2,2),symmetric=True)\n",
    "prob= cv.Problem(cv.Minimize(0),[ P>>np.eye(2), P-A.T@P@A>>np.eye(2),])\n",
    "result= prob.solve()\n",
    "\n",
    "# Check the solver status\n",
    "if prob.status == cv.OPTIMAL:\n",
    "    print(\"Solver found an optimal solution.\")\n",
    "elif prob.status == cv.INFEASIBLE:\n",
    "    print(\"Problem is infeasible.\")\n",
    "elif prob.status == cv.UNBOUNDED:\n",
    "    print(\"Problem is unbounded.\")\n",
    "else:\n",
    "    print(f\"Solver did not find an optimal solution. Status: {prob.status}\")\n"
   ]
  },
  {
   "cell_type": "code",
   "execution_count": 18,
   "metadata": {},
   "outputs": [
    {
     "name": "stdout",
     "output_type": "stream",
     "text": [
      "6.485045873250773e-06\n"
     ]
    }
   ],
   "source": [
    "a=cv.Variable()\n",
    "A=cv.bmat([[a,0],[0,1]])\n",
    "prob= cv.Problem(cv.Minimize(a),[A>>0])\n",
    "result= prob.solve()\n",
    "print(a.value)"
   ]
  },
  {
   "cell_type": "code",
   "execution_count": null,
   "metadata": {},
   "outputs": [],
   "source": []
  }
 ],
 "metadata": {
  "kernelspec": {
   "display_name": "venv",
   "language": "python",
   "name": "python3"
  },
  "language_info": {
   "codemirror_mode": {
    "name": "ipython",
    "version": 3
   },
   "file_extension": ".py",
   "mimetype": "text/x-python",
   "name": "python",
   "nbconvert_exporter": "python",
   "pygments_lexer": "ipython3",
   "version": "3.8.10"
  }
 },
 "nbformat": 4,
 "nbformat_minor": 2
}
