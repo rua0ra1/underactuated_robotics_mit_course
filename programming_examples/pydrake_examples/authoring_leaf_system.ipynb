{
 "cells": [
  {
   "cell_type": "code",
   "execution_count": 1,
   "metadata": {},
   "outputs": [],
   "source": [
    "import numpy as np\n",
    "from pydrake.common.containers import namedview\n",
    "from pydrake.common.value import Value\n",
    "from pydrake.math import RigidTransform, RotationMatrix\n",
    "from pydrake.systems.analysis import Simulator\n",
    "from pydrake.systems.framework import BasicVector, LeafSystem\n",
    "from pydrake.trajectories import PiecewisePolynomial"
   ]
  },
  {
   "cell_type": "code",
   "execution_count": 2,
   "metadata": {},
   "outputs": [
    {
     "name": "stdout",
     "output_type": "stream",
     "text": [
      "sum: [4. 6.]\n",
      "difference: [2. 2.]\n"
     ]
    }
   ],
   "source": [
    "class MyAdder(LeafSystem):\n",
    "    def __init__(self):\n",
    "        super().__init__()\n",
    "        self._a_port = self.DeclareVectorInputPort(name=\"a\", size=2)\n",
    "        self._b_port = self.DeclareVectorInputPort(name=\"b\", size=2)\n",
    "        self.DeclareVectorOutputPort(name=\"sum\", size=2, calc=self.CalcSum)\n",
    "        self.DeclareVectorOutputPort(name=\"difference\",\n",
    "                                     size=2,\n",
    "                                     calc=self.CalcDifference)\n",
    "    \n",
    "    def CalcSum(self, context, output):\n",
    "        # Evaluate the input ports to obtain the 2x1 vectors.\n",
    "        a = self._a_port.Eval(context)\n",
    "        b = self._b_port.Eval(context)\n",
    "\n",
    "        # Write the sum into the output vector.\n",
    "        output.SetFromVector(a + b)\n",
    "\n",
    "    def CalcDifference(self, context, output):\n",
    "        # Evaluate the input ports to obtain the 2x1 vectors.\n",
    "        a = self._a_port.Eval(context)\n",
    "        b = self._b_port.Eval(context)\n",
    "\n",
    "        # Write the difference into output vector.\n",
    "        output.SetFromVector(a - b)\n",
    "\n",
    "# Construct an instance of this system and a context.\n",
    "system = MyAdder()\n",
    "context = system.CreateDefaultContext()\n",
    "\n",
    "\n",
    "# Fix the input ports to some constant values.\n",
    "system.GetInputPort(\"a\").FixValue(context, [3, 4])\n",
    "system.GetInputPort(\"b\").FixValue(context, [1, 2])\n",
    "\n",
    "# Evaluate the output ports.\n",
    "print(f\"sum: {system.GetOutputPort('sum').Eval(context)}\")\n",
    "print(f\"difference: {system.GetOutputPort('difference').Eval(context)}\")"
   ]
  },
  {
   "cell_type": "markdown",
   "metadata": {},
   "source": [
    "## Leaf sysem that used RigidTransform in its input and output ports"
   ]
  },
  {
   "cell_type": "code",
   "execution_count": 4,
   "metadata": {},
   "outputs": [
    {
     "name": "stdout",
     "output_type": "stream",
     "text": [
      "RigidTransform(\n",
      "  R=RotationMatrix([\n",
      "    [1.0, 0.0, 0.0],\n",
      "    [0.0, 1.0, 0.0],\n",
      "    [0.0, 0.0, 1.0],\n",
      "  ]),\n",
      "  p=[0.0, 0.0, 0.0],\n",
      ")\n",
      "output: RigidTransform(\n",
      "  R=RotationMatrix([\n",
      "    [6.123233995736766e-17, -1.0, 0.0],\n",
      "    [1.0, 6.123233995736766e-17, 0.0],\n",
      "    [0.0, 0.0, 1.0],\n",
      "  ]),\n",
      "  p=[0.0, 0.0, 0.0],\n",
      ")\n"
     ]
    }
   ],
   "source": [
    "class RotateAboutZ(LeafSystem):\n",
    "    def __init__(self):\n",
    "        super().__init__()  # Don't forget to initialize the base class.\n",
    "        self.DeclareAbstractInputPort(name=\"in\",\n",
    "                                      model_value=Value(RigidTransform()))\n",
    "        self.DeclareAbstractOutputPort(\n",
    "            name=\"out\",\n",
    "            alloc=lambda: Value(RigidTransform()),\n",
    "            calc=self.CalcOutput)\n",
    "\n",
    "    def CalcOutput(self, context, output):\n",
    "        # Evaluate the input port to obtain the RigidTransform.\n",
    "        X_1 = system.get_input_port().Eval(context)\n",
    "\n",
    "        X_2 = RigidTransform(RotationMatrix.MakeZRotation(np.pi / 2)) @ X_1\n",
    "\n",
    "        # Set the output RigidTransform.\n",
    "        output.set_value(X_2)\n",
    "\n",
    "\n",
    "# Construct an instance of this system and a context\n",
    "system=RotateAboutZ()\n",
    "context=system.CreateDefaultContext()\n",
    "\n",
    "# Fix the input port to a constant value.\n",
    "system.get_input_port().FixValue(context, RigidTransform())\n",
    "\n",
    "\n",
    "\n",
    "# Evaluate the output port.\n",
    "print(f\"output: {system.get_output_port(0).Eval(context)}\")"
   ]
  },
  {
   "cell_type": "code",
   "execution_count": 9,
   "metadata": {},
   "outputs": [
    {
     "name": "stdout",
     "output_type": "stream",
     "text": [
      "breaks: [3.0, 4.0]\n",
      "traj(4.0) = [[-2.57079633]\n",
      " [ 2.        ]]\n"
     ]
    }
   ],
   "source": [
    "class AbstractStateSystem(LeafSystem):\n",
    "    def __init__(self):\n",
    "        super().__init__()\n",
    "\n",
    "        self._traj_index = self.DeclareAbstractState(\n",
    "            Value(PiecewisePolynomial()))\n",
    "        self.DeclarePeriodicUnrestrictedUpdateEvent(period_sec=1.0,\n",
    "                                                    offset_sec=0.0,\n",
    "                                                    update=self.Update)\n",
    "\n",
    "    def Update(self, context, state):\n",
    "        t = context.get_time()\n",
    "        traj = PiecewisePolynomial.FirstOrderHold(\n",
    "            [t, t + 1],\n",
    "            np.array([[-np.pi / 2.0 + 1., -np.pi / 2.0 - 1.], [-2., 2.]]))\n",
    "        # Update the state\n",
    "        state.get_mutable_abstract_state(int(self._traj_index)).set_value(traj)\n",
    "\n",
    "\n",
    "\n",
    "system = AbstractStateSystem()\n",
    "simulator = Simulator(system)\n",
    "context = simulator.get_mutable_context()\n",
    "\n",
    "# Set an initial condition for the abstract state.\n",
    "context.SetAbstractState(0, PiecewisePolynomial())\n",
    "\n",
    "# Run the simulation.\n",
    "simulator.AdvanceTo(4.0)\n",
    "traj = context.get_abstract_state(0).get_value()\n",
    "print(f\"breaks: {traj.get_segment_times()}\")\n",
    "print(f\"traj({context.get_time()}) = {traj.value(context.get_time())}\")"
   ]
  },
  {
   "cell_type": "markdown",
   "metadata": {},
   "source": [
    "Parameters are like state, except that they are constant through the lifetime of a simulation. Parameters in the systems framework are declared and accessed almost identically to state, but they are never updated. Once again, we have vector-valued (declared with DeclareNumericParameter) and abstract-valued (via DeclareAbstractParameter) parameters."
   ]
  },
  {
   "cell_type": "code",
   "execution_count": 10,
   "metadata": {},
   "outputs": [
    {
     "name": "stdout",
     "output_type": "stream",
     "text": [
      "numeric: [1.2 3.4]\n",
      "abstract: RigidTransform(\n",
      "  R=RotationMatrix([\n",
      "    [1.0, 0.0, 0.0],\n",
      "    [0.0, 0.8660254037844387, -0.49999999999999994],\n",
      "    [0.0, 0.49999999999999994, 0.8660254037844387],\n",
      "  ]),\n",
      "  p=[0.0, 0.0, 0.0],\n",
      ")\n"
     ]
    }
   ],
   "source": [
    "class SystemWithParameters(LeafSystem):\n",
    "    def __init__(self):\n",
    "        super().__init__()  # Don't forget to initialize the base class.\n",
    "\n",
    "        self.DeclareNumericParameter(BasicVector([1.2, 3.4]))\n",
    "        self.DeclareAbstractParameter(\n",
    "            Value(RigidTransform(RotationMatrix.MakeXRotation(np.pi / 6))))\n",
    "\n",
    "        # Declare output ports to demonstrate how to access the parameters in\n",
    "        # system methods.\n",
    "        self.DeclareVectorOutputPort(name=\"numeric\",\n",
    "                                     size=2,\n",
    "                                     calc=self.OutputNumeric)\n",
    "        self.DeclareAbstractOutputPort(\n",
    "            name=\"abstract\",\n",
    "            alloc=lambda: Value(RigidTransform()),\n",
    "            calc=self.OutputAbstract)\n",
    "\n",
    "    def OutputNumeric(self, context, output):\n",
    "        output.SetFromVector(context.get_numeric_parameter(0).get_value())\n",
    "\n",
    "    def OutputAbstract(self, context, output):\n",
    "        output.set_value(context.get_abstract_parameter(0).get_value())\n",
    "\n",
    "# Construct an instance of this system and a context.\n",
    "system = SystemWithParameters()\n",
    "context = system.CreateDefaultContext()\n",
    "\n",
    "# Evaluate the output ports.\n",
    "print(f\"numeric: {system.get_output_port(0).Eval(context)}\")\n",
    "print(f\"abstract: {system.get_output_port(1).Eval(context)}\")"
   ]
  },
  {
   "cell_type": "code",
   "execution_count": 14,
   "metadata": {},
   "outputs": [
    {
     "name": "stdout",
     "output_type": "stream",
     "text": [
      "Publish() called at time=0.0\n",
      "Publish() called at time=1.0\n",
      "Publish() called at time=2.0\n",
      "Publish() called at time=3.0\n",
      "Publish() called at time=4.0\n",
      "Publish() called at time=5.0\n",
      "\n",
      "calling ForcedPublish:\n",
      "Publish() called at time=5.3\n"
     ]
    }
   ],
   "source": [
    "class MyPublishingSystem(LeafSystem):\n",
    "    def __init__(self):\n",
    "        super().__init__()\n",
    "\n",
    "        # Calling `ForcePublish()` will trigger the callback.\n",
    "        self.DeclareForcedPublishEvent(self.Publish)\n",
    "\n",
    "        # Publish once every second.\n",
    "        self.DeclarePeriodicPublishEvent(period_sec=1,\n",
    "                                         offset_sec=0,\n",
    "                                         publish=self.Publish)\n",
    "        \n",
    "    def Publish(self, context):\n",
    "        print(f\"Publish() called at time={context.get_time()}\")\n",
    "\n",
    "system = MyPublishingSystem()\n",
    "simulator = Simulator(system)\n",
    "simulator.AdvanceTo(5.3)\n",
    "\n",
    "# We can also \"force\" a publish at a arbitrary time.\n",
    "print(\"\\ncalling ForcedPublish:\")\n",
    "system.ForcedPublish(simulator.get_context())\n"
   ]
  },
  {
   "cell_type": "code",
   "execution_count": null,
   "metadata": {},
   "outputs": [],
   "source": []
  }
 ],
 "metadata": {
  "kernelspec": {
   "display_name": "venv",
   "language": "python",
   "name": "python3"
  },
  "language_info": {
   "codemirror_mode": {
    "name": "ipython",
    "version": 3
   },
   "file_extension": ".py",
   "mimetype": "text/x-python",
   "name": "python",
   "nbconvert_exporter": "python",
   "pygments_lexer": "ipython3",
   "version": "3.8.10"
  }
 },
 "nbformat": 4,
 "nbformat_minor": 2
}
