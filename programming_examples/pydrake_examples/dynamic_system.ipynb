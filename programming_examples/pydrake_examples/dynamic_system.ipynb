{
 "cells": [
  {
   "cell_type": "code",
   "execution_count": 2,
   "metadata": {},
   "outputs": [],
   "source": [
    "import matplotlib.animation as animation\n",
    "import matplotlib.pyplot as plt\n",
    "import numpy as np\n",
    "from IPython.display import HTML, display\n",
    "from matplotlib import cm\n",
    "from pydrake.all import (\n",
    "    DynamicProgrammingOptions,\n",
    "    FittedValueIteration,\n",
    "    LinearSystem,\n",
    "    Simulator,\n",
    "    LeafSystem,\n",
    "    DiagramBuilder,\n",
    "    LogVectorOutput\n",
    ")\n",
    "\n",
    "from underactuated import running_as_notebook"
   ]
  },
  {
   "cell_type": "markdown",
   "metadata": {},
   "source": [
    "### Using SymbolicVectorSystem\n",
    "\n",
    "Consider a basic continuous-time, nonlinear, input-output dynamical system described by the following state-space equations: \n",
    "\n",
    "$\\begin{aligned}\\dot{x} =& f(t,x,u), \\\\ y =& g(t,x,u).\\end{aligned}$\n",
    "\n",
    "In `pydrake`, you can instantiate a system of this form where $f()$ and $g()$ are anything that you can write in Python using [operations supported by the Drake symbolic engine](https://drake.mit.edu/pydrake/pydrake.symbolic.html#pydrake.symbolic.Expression), as illustrated by the following example.\n",
    "\n",
    "Consider the system \n",
    "\n",
    "$\\begin{aligned}\\dot{x} =& -x + x^3,\\\\ y =& x.\\end{aligned}$\n",
    "\n",
    "This system has zero inputs, one (continuous) state variable, and one output.  It can be implemented in Drake using the following code:"
   ]
  },
  {
   "cell_type": "code",
   "execution_count": 3,
   "metadata": {},
   "outputs": [],
   "source": [
    "# Define the system.\n",
    "class SimpleContinuousTimeSystem(LeafSystem):\n",
    "    def __init__(self):\n",
    "        LeafSystem.__init__(self)\n",
    "\n",
    "        state_index = self.DeclareContinuousState(1)  # One state variable.\n",
    "        self.DeclareStateOutputPort(\"y\", state_index)  # One output: y=x.\n",
    "\n",
    "    # xdot(t) = -x(t) + x^3(t)\n",
    "    def DoCalcTimeDerivatives(self, context, derivatives):\n",
    "        x = context.get_continuous_state_vector().GetAtIndex(0)\n",
    "        xdot = -x + x**3\n",
    "        derivatives.get_mutable_vector().SetAtIndex(0, xdot)\n",
    "\n",
    "continuous_system=SimpleContinuousTimeSystem()\n",
    "\n",
    "\n"
   ]
  },
  {
   "cell_type": "markdown",
   "metadata": {},
   "source": [
    "That's it!  The `continuous_vector_system` variable is now an instantiation of a Drake `System` class, that can be used in a number of ways that we will illustrate below.  Note that the state argument expects a *vector* of `symbolic::Variable` (Python lists get automatically converted), and the dynamics and output arguments expect a vector of `symbolic::Expression`s.\n",
    "\n",
    "Implementing a basic discrete-time system in Drake is very analogous to implementing a continuous-time system.  The discrete-time system given by: \n",
    "\n",
    "$\\begin{gathered}  x[n+1] = f(n,x,u),\\\\ y[n] = g(n,x,u), \\end{gathered}$ \n",
    "\n",
    "can be implemented as seen in the following example.\n",
    "\n",
    "Consider the system \n",
    "\n",
    "$\\begin{gathered}x[n+1] = x^3[n],\\\\ y[n] = x[n].\\end{gathered}$\n",
    "\n",
    "This system has zero inputs, one (discrete) state variable, and one output.  It can be implemented in Drake using the following code:"
   ]
  },
  {
   "cell_type": "code",
   "execution_count": 4,
   "metadata": {},
   "outputs": [],
   "source": [
    "# Define the system.\n",
    "class SimpleDiscreteTimeSystem(LeafSystem):\n",
    "    def __init__(self):\n",
    "        LeafSystem.__init__(self)\n",
    "\n",
    "        state_index = self.DeclareDiscreteState(1)  # One state variable.\n",
    "        self.DeclareStateOutputPort(\"y\", state_index)  # One output: y=x.\n",
    "        self.DeclarePeriodicDiscreteUpdateEvent(\n",
    "            period_sec=1.0,  # One second time step.\n",
    "            offset_sec=0.0,  # The first event is at time zero.\n",
    "            update=self.Update) # Call the Update method defined below.\n",
    "\n",
    "    # x[n+1] = x^3[n]\n",
    "    def Update(self, context, discrete_state):\n",
    "        x = context.get_discrete_state_vector().GetAtIndex(0)\n",
    "        x_next = x**3\n",
    "        discrete_state.get_mutable_vector().SetAtIndex(0, x_next)\n",
    "\n",
    "# Instantiate the System\n",
    "discrete_system = SimpleDiscreteTimeSystem()"
   ]
  },
  {
   "cell_type": "code",
   "execution_count": 5,
   "metadata": {},
   "outputs": [
    {
     "data": {
      "text/plain": [
       "Text(0, 0.5, 'y(t)')"
      ]
     },
     "execution_count": 5,
     "metadata": {},
     "output_type": "execute_result"
    },
    {
     "data": {
      "image/png": "[encoded data removed]",
      "text/plain": [
       "<Figure size 640x480 with 1 Axes>"
      ]
     },
     "metadata": {},
     "output_type": "display_data"
    }
   ],
   "source": [
    "# simulate the continous time system we defined above and plot the results\n",
    "import matplotlib.pyplot as plt\n",
    "#create a simple block diagram containing our system\n",
    "\n",
    "builder=DiagramBuilder()\n",
    "system=builder.AddSystem(SimpleContinuousTimeSystem())\n",
    "logger = LogVectorOutput(system.get_output_port(0), builder)\n",
    "diagram = builder.Build()\n",
    "\n",
    "#set the initial conditions \n",
    "context=diagram.CreateDefaultContext()\n",
    "context.SetContinuousState([0.9])\n",
    "\n",
    "# Create the simulator, and simulate for 10 seconds.\n",
    "simulator = Simulator(diagram, context)\n",
    "simulator.AdvanceTo(10)\n",
    "\n",
    "# Plot the results.\n",
    "log = logger.FindLog(context)\n",
    "plt.figure()\n",
    "plt.plot(log.sample_times(), log.data().transpose())\n",
    "plt.xlabel('t')\n",
    "plt.ylabel('y(t)')\n",
    "\n",
    "\n"
   ]
  },
  {
   "cell_type": "code",
   "execution_count": 6,
   "metadata": {},
   "outputs": [
    {
     "data": {
      "image/png": "[encoded data removed]",
      "text/plain": [
       "<Figure size 640x480 with 1 Axes>"
      ]
     },
     "metadata": {},
     "output_type": "display_data"
    }
   ],
   "source": [
    "# Create a simple block diagram containing our system.\n",
    "builder = DiagramBuilder()\n",
    "system = builder.AddSystem(SimpleDiscreteTimeSystem())\n",
    "logger = LogVectorOutput(system.get_output_port(0), builder)\n",
    "diagram = builder.Build()\n",
    "\n",
    "#set the initial conditions \n",
    "context=diagram.CreateDefaultContext()\n",
    "context.SetDiscreteState([0.9])\n",
    "\n",
    "# Create the simulator.\n",
    "simulator = Simulator(diagram,context=context)\n",
    "\n",
    "# Simulate for 10 seconds.\n",
    "simulator.AdvanceTo(10)\n",
    "\n",
    "# Plot the results.\n",
    "log = logger.FindLog(simulator.get_context())\n",
    "plt.figure()\n",
    "plt.stem(log.sample_times(), log.data().transpose())\n",
    "plt.xlabel('n')\n",
    "plt.ylabel('y[n]');"
   ]
  },
  {
   "cell_type": "markdown",
   "metadata": {},
   "source": [
    "## Combinations of Systems: Diagram and DiagramBuilder"
   ]
  },
  {
   "cell_type": "code",
   "execution_count": 7,
   "metadata": {},
   "outputs": [],
   "source": [
    "import matplotlib.pyplot as plt\n",
    "import numpy as np\n",
    "import pydot\n",
    "from IPython.display import SVG, display\n",
    "from pydrake.examples import PendulumPlant\n",
    "from pydrake.systems.analysis import Simulator\n",
    "from pydrake.systems.controllers import PidController\n",
    "from pydrake.systems.framework import DiagramBuilder\n",
    "from pydrake.systems.primitives import LogVectorOutput"
   ]
  },
  {
   "cell_type": "code",
   "execution_count": 8,
   "metadata": {},
   "outputs": [
    {
     "data": {
      "image/svg+xml": [
       "<svg xmlns=\"http://www.w3.org/2000/svg\" xmlns:xlink=\"http://www.w3.org/1999/xlink\" width=\"487pt\" height=\"432pt\" viewBox=\"0.00 0.00 487.00 432.00\">\n",
       "<g id=\"graph0\" class=\"graph\" transform=\"scale(1 1) rotate(0) translate(4 428)\">\n",
       "<title>_14</title>\n",
       "<polygon fill=\"white\" stroke=\"transparent\" points=\"-4,4 -4,-428 483,-428 483,4 -4,4\"/>\n",
       "<g id=\"clust1\" class=\"cluster\">\n",
       "<title>cluster14diagram</title>\n",
       "<polygon fill=\"none\" stroke=\"black\" points=\"8,-8 8,-416 471,-416 471,-8 8,-8\"/>\n",
       "<text text-anchor=\"start\" x=\"206\" y=\"-397.8\" font-family=\"Times,serif\" font-weight=\"bold\" font-size=\"14.00\">Diagram</text>\n",
       "<text text-anchor=\"start\" x=\"123.5\" y=\"-383.8\" font-family=\"Times,serif\" font-size=\"14.00\">name=PID control for pendulum</text>\n",
       "</g>\n",
       "<g id=\"clust2\" class=\"cluster\">\n",
       "<title>clusters14in</title>\n",
       "<polygon fill=\"lightgrey\" stroke=\"lightgrey\" points=\"16,-289 16,-364 233,-364 233,-289 16,-289\"/>\n",
       "<text text-anchor=\"middle\" x=\"124.5\" y=\"-348.8\" font-family=\"Times,serif\" font-size=\"14.00\">input ports</text>\n",
       "</g>\n",
       "<g id=\"clust3\" class=\"cluster\">\n",
       "<title>clusters14out</title>\n",
       "<polygon fill=\"lightgrey\" stroke=\"lightgrey\" points=\"278.5,-16 278.5,-91 437.5,-91 437.5,-16 278.5,-16\"/>\n",
       "<text text-anchor=\"middle\" x=\"358\" y=\"-75.8\" font-family=\"Times,serif\" font-size=\"14.00\">output ports</text>\n",
       "</g>\n",
       "<g id=\"clust4\" class=\"cluster\">\n",
       "<title>cluster14subsystems</title>\n",
       "<polygon fill=\"none\" stroke=\"white\" points=\"43.5,-99 43.5,-281 463,-281 463,-99 43.5,-99\"/>\n",
       "</g>\n",
       "<!-- s14in -->\n",
       "<g id=\"node1\" class=\"node\">\n",
       "<title>s14in</title>\n",
       "<polygon fill=\"none\" stroke=\"blue\" points=\"35.5,-304 35.5,-325 214.5,-325 214.5,-304 35.5,-304\"/>\n",
       "<text text-anchor=\"start\" x=\"38.5\" y=\"-310.8\" font-family=\"Times,serif\" font-size=\"14.00\">controller_desired_state</text>\n",
       "</g>\n",
       "<!-- s11 -->\n",
       "<g id=\"node4\" class=\"node\">\n",
       "<title>s11</title>\n",
       "<polygon fill=\"none\" stroke=\"black\" points=\"269,-235 269,-269 447,-269 447,-235 269,-235\"/>\n",
       "<text text-anchor=\"start\" x=\"304.5\" y=\"-255.8\" font-family=\"Times,serif\" font-weight=\"bold\" font-size=\"14.00\">PidController</text>\n",
       "<text text-anchor=\"start\" x=\"297.5\" y=\"-241.8\" font-family=\"Times,serif\" font-size=\"14.00\">name=controller</text>\n",
       "<polygon fill=\"none\" stroke=\"black\" points=\"269,-214 269,-235 390,-235 390,-214 269,-214\"/>\n",
       "<text text-anchor=\"start\" x=\"272\" y=\"-220.8\" font-family=\"Times,serif\" font-size=\"14.00\">estimated_state</text>\n",
       "<polygon fill=\"none\" stroke=\"black\" points=\"390,-193 390,-235 447,-235 447,-193 390,-193\"/>\n",
       "<text text-anchor=\"start\" x=\"393\" y=\"-210.3\" font-family=\"Times,serif\" font-size=\"14.00\">control</text>\n",
       "<polygon fill=\"none\" stroke=\"black\" points=\"269,-193 269,-214 390,-214 390,-193 269,-193\"/>\n",
       "<text text-anchor=\"start\" x=\"281\" y=\"-199.8\" font-family=\"Times,serif\" font-size=\"14.00\">desired_state</text>\n",
       "</g>\n",
       "<!-- s14in&#45;&gt;s11 -->\n",
       "<g id=\"edge4\" class=\"edge\">\n",
       "<title>s14in:e-&gt;s11:w</title>\n",
       "<path fill=\"none\" stroke=\"blue\" d=\"M215.5,-314C266.24,-314 220.84,-218.06 258.06,-204.57\"/>\n",
       "<polygon fill=\"blue\" stroke=\"blue\" points=\"258.67,-208.02 268,-203 257.58,-201.1 258.67,-208.02\"/>\n",
       "</g>\n",
       "<!-- s14out -->\n",
       "<g id=\"node2\" class=\"node\">\n",
       "<title>s14out</title>\n",
       "<polygon fill=\"none\" stroke=\"green\" points=\"298,-31 298,-52 419,-52 419,-31 298,-31\"/>\n",
       "<text text-anchor=\"start\" x=\"301\" y=\"-37.8\" font-family=\"Times,serif\" font-size=\"14.00\">pendulum_state</text>\n",
       "</g>\n",
       "<!-- s10 -->\n",
       "<g id=\"node3\" class=\"node\">\n",
       "<title>s10</title>\n",
       "<polygon fill=\"none\" stroke=\"black\" points=\"59.5,-178 59.5,-212 189.5,-212 189.5,-178 59.5,-178\"/>\n",
       "<text text-anchor=\"start\" x=\"62.5\" y=\"-198.8\" font-family=\"Times,serif\" font-weight=\"bold\" font-size=\"14.00\">PendulumPlant</text>\n",
       "<text text-anchor=\"start\" x=\"63\" y=\"-184.8\" font-family=\"Times,serif\" font-size=\"14.00\">name=pendulum</text>\n",
       "<polygon fill=\"none\" stroke=\"black\" points=\"59.5,-157 59.5,-178 117.5,-178 117.5,-157 59.5,-157\"/>\n",
       "<text text-anchor=\"start\" x=\"76.5\" y=\"-163.8\" font-family=\"Times,serif\" font-size=\"14.00\">tau</text>\n",
       "<polygon fill=\"none\" stroke=\"black\" points=\"117.5,-157 117.5,-178 189.5,-178 189.5,-157 117.5,-157\"/>\n",
       "<text text-anchor=\"start\" x=\"135\" y=\"-163.8\" font-family=\"Times,serif\" font-size=\"14.00\">state</text>\n",
       "</g>\n",
       "<!-- s10&#45;&gt;s14out -->\n",
       "<g id=\"edge5\" class=\"edge\">\n",
       "<title>s10:e-&gt;s14out:w</title>\n",
       "<path fill=\"none\" stroke=\"green\" d=\"M190.5,-167C260.1,-167 227.46,-53.47 286.68,-41.94\"/>\n",
       "<polygon fill=\"green\" stroke=\"green\" points=\"287.36,-45.39 297,-41 286.72,-38.42 287.36,-45.39\"/>\n",
       "</g>\n",
       "<!-- s10&#45;&gt;s11 -->\n",
       "<g id=\"edge1\" class=\"edge\">\n",
       "<title>s10:e-&gt;s11:w</title>\n",
       "<path fill=\"none\" stroke=\"black\" d=\"M190.5,-167C229.58,-167 226.25,-214.62 258.04,-222.81\"/>\n",
       "<polygon fill=\"black\" stroke=\"black\" points=\"257.66,-226.29 268,-224 258.49,-219.34 257.66,-226.29\"/>\n",
       "</g>\n",
       "<!-- s12 -->\n",
       "<g id=\"node5\" class=\"node\">\n",
       "<title>s12</title>\n",
       "<polygon fill=\"none\" stroke=\"black\" points=\"298,-132 298,-166 419,-166 419,-132 298,-132\"/>\n",
       "<text text-anchor=\"start\" x=\"301\" y=\"-152.8\" font-family=\"Times,serif\" font-weight=\"bold\" font-size=\"14.00\">VectorLogSink</text>\n",
       "<text text-anchor=\"start\" x=\"310\" y=\"-138.8\" font-family=\"Times,serif\" font-size=\"14.00\">name=logger</text>\n",
       "<polygon fill=\"none\" stroke=\"black\" points=\"298,-111 298,-132 374,-132 374,-111 298,-111\"/>\n",
       "<text text-anchor=\"start\" x=\"320\" y=\"-117.8\" font-family=\"Times,serif\" font-size=\"14.00\">data</text>\n",
       "<polyline fill=\"none\" stroke=\"grey\" points=\"374,-111 419,-111 419,-132 \"/>\n",
       "</g>\n",
       "<!-- s10&#45;&gt;s12 -->\n",
       "<g id=\"edge3\" class=\"edge\">\n",
       "<title>s10:e-&gt;s12:w</title>\n",
       "<path fill=\"none\" stroke=\"black\" d=\"M190.5,-167C238.43,-167 244.73,-127.24 286.81,-121.65\"/>\n",
       "<polygon fill=\"black\" stroke=\"black\" points=\"287.24,-125.13 297,-121 286.8,-118.14 287.24,-125.13\"/>\n",
       "</g>\n",
       "<!-- s11&#45;&gt;s10 -->\n",
       "<g id=\"edge2\" class=\"edge\">\n",
       "<title>s11:e-&gt;s10:w</title>\n",
       "<path fill=\"none\" stroke=\"black\" d=\"M448,-214C459.12,-214 454.79,-196.94 447,-189 432.5,-174.22 281.23,-182.39 261,-178 231.44,-171.59 227.24,-159.04 197.5,-153.5 137.2,-142.27 104.44,-111.76 59.5,-153.5 58.47,-154.46 57.53,-155.71 56.78,-157.06\"/>\n",
       "<polygon fill=\"black\" stroke=\"black\" points=\"53.35,-157.74 58.5,-167 60.25,-156.55 53.35,-157.74\"/>\n",
       "</g>\n",
       "</g>\n",
       "</svg>"
      ],
      "text/plain": [
       "<IPython.core.display.SVG object>"
      ]
     },
     "metadata": {},
     "output_type": "display_data"
    }
   ],
   "source": [
    "builder = DiagramBuilder()\n",
    "# First add the pendulum.\n",
    "pendulum = builder.AddNamedSystem(\"pendulum\", PendulumPlant())\n",
    "\n",
    "# Add a PID controller.\n",
    "controller = builder.AddNamedSystem(\"controller\",\n",
    "                                    PidController(kp=[10.], ki=[1.], kd=[1.]))\n",
    "\n",
    "# Now \"wire up\" the controller to the plant.\n",
    "builder.Connect(pendulum.get_state_output_port(),\n",
    "                controller.get_input_port_estimated_state())\n",
    "builder.Connect(controller.get_output_port_control(), pendulum.get_input_port())\n",
    "\n",
    "\n",
    "# Make the desired_state input of the controller an input to the diagram.\n",
    "builder.ExportInput(controller.get_input_port_desired_state())\n",
    "# Make the pendulum state an output from the diagram.\n",
    "builder.ExportOutput(pendulum.get_state_output_port())\n",
    "\n",
    "# Log the state of the pendulum.\n",
    "logger = LogVectorOutput(pendulum.get_state_output_port(), builder)\n",
    "logger.set_name(\"logger\")\n",
    "\n",
    "diagram = builder.Build()\n",
    "diagram.set_name(\"PID control for pendulum\")\n",
    "\n",
    "# Visualize the diagram.\n",
    "display(SVG(pydot.graph_from_dot_data(\n",
    "    diagram.GetGraphvizString(max_depth=2))[0].create_svg()))\n"
   ]
  },
  {
   "cell_type": "markdown",
   "metadata": {},
   "source": [
    "### Simulating the PID controller with pendulum"
   ]
  },
  {
   "cell_type": "code",
   "execution_count": 9,
   "metadata": {},
   "outputs": [],
   "source": [
    "# Set up a simulator to run this diagram.\n",
    "simulator = Simulator(diagram)\n",
    "context = simulator.get_mutable_context()\n",
    "\n",
    "# We'll try to regulate the pendulum to a particular angle.\n",
    "desired_angle = np.pi/2.\n",
    "\n",
    "# First we extract the subsystem context for the pendulum.\n",
    "pendulum_context = diagram.GetMutableSubsystemContext(pendulum, context)\n",
    "# Then we can set the pendulum state, which is (theta, thetadot).\n",
    "pendulum_context.get_mutable_continuous_state_vector().SetFromVector(\n",
    "    [desired_angle + 0.1, 0.2])\n",
    "\n",
    "# The diagram has a single input port (port index 0), which is the desired_state.\n",
    "diagram.get_input_port(0).FixValue(context, [desired_angle, 0.])\n",
    "\n",
    "# Clear the logger only because we've written this notebook with the opportunity to\n",
    "# simulate multiple times (in this cell) using the same logger object.  This is\n",
    "# often not needed.\n",
    "logger.FindMutableLog(context).Clear()\n",
    "\n",
    "# Simulate for 10 seconds.\n",
    "simulator.AdvanceTo(20);"
   ]
  },
  {
   "cell_type": "code",
   "execution_count": 10,
   "metadata": {},
   "outputs": [
    {
     "data": {
      "image/png": "[encoded data removed]",
      "text/plain": [
       "<Figure size 640x480 with 1 Axes>"
      ]
     },
     "metadata": {},
     "output_type": "display_data"
    }
   ],
   "source": [
    "# Plot the results.\n",
    "log = logger.FindLog(simulator.get_context())\n",
    "t = log.sample_times()\n",
    "plt.figure()\n",
    "# Plot theta.\n",
    "plt.plot(t, log.data()[0,:],'.-')\n",
    "# Draw a line for the desired angle.\n",
    "plt.plot([t[0], t[-1]], [desired_angle, desired_angle], 'g' )\n",
    "plt.xlabel('time (seconds)')\n",
    "plt.ylabel('theta (rad)')\n",
    "plt.title('PID Control of the Pendulum');"
   ]
  },
  {
   "cell_type": "code",
   "execution_count": null,
   "metadata": {},
   "outputs": [],
   "source": []
  }
 ],
 "metadata": {
  "kernelspec": {
   "display_name": "venv",
   "language": "python",
   "name": "python3"
  },
  "language_info": {
   "codemirror_mode": {
    "name": "ipython",
    "version": 3
   },
   "file_extension": ".py",
   "mimetype": "text/x-python",
   "name": "python",
   "nbconvert_exporter": "python",
   "pygments_lexer": "ipython3",
   "version": "3.8.10"
  }
 },
 "nbformat": 4,
 "nbformat_minor": 2
}
