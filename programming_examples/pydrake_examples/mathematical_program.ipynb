{
 "cells": [
  {
   "cell_type": "code",
   "execution_count": 5,
   "metadata": {},
   "outputs": [
    {
     "name": "stdout",
     "output_type": "stream",
     "text": [
      "[Variable('x(0)', Continuous) Variable('x(1)', Continuous)]\n",
      "(1 + 2 * x(0) + 7 * x(1))\n"
     ]
    }
   ],
   "source": [
    "from pydrake.solvers import MathematicalProgram\n",
    "import numpy as np\n",
    "import matplotlib.pyplot as plt\n",
    "\n",
    "prog = MathematicalProgram()\n",
    "\n",
    "x=prog.NewContinuousVariables(2)\n",
    "\n",
    "print(x)\n",
    "print(1 + 2*x[0] + 3*x[1] + 4*x[1])\n"
   ]
  },
  {
   "cell_type": "code",
   "execution_count": 6,
   "metadata": {},
   "outputs": [
    {
     "name": "stdout",
     "output_type": "stream",
     "text": [
      "[Variable('dog(0)', Continuous) Variable('dog(1)', Continuous)]\n",
      "(2 * dog(0) + pow(dog(1), 3))\n"
     ]
    }
   ],
   "source": [
    "y = prog.NewContinuousVariables(2, \"dog\")\n",
    "print(y)\n",
    "print(y[0] + y[0] + y[1] * y[1] * y[1])"
   ]
  },
  {
   "cell_type": "code",
   "execution_count": 8,
   "metadata": {},
   "outputs": [],
   "source": [
    "var_matrix=prog.NewContinuousVariables(3,2,\"A\")"
   ]
  },
  {
   "cell_type": "code",
   "execution_count": 9,
   "metadata": {},
   "outputs": [
    {
     "data": {
      "text/plain": [
       "<pydrake.solvers.Binding𝓣Constraint𝓤 at 0x7fdc040573b0>"
      ]
     },
     "execution_count": 9,
     "metadata": {},
     "output_type": "execute_result"
    }
   ],
   "source": [
    "# Add the constraint x(0) * x(1) = 1 to prog\n",
    "prog.AddConstraint(x[0] * x[1] == 1)"
   ]
  },
  {
   "cell_type": "code",
   "execution_count": 10,
   "metadata": {},
   "outputs": [
    {
     "data": {
      "text/plain": [
       "<pydrake.solvers.Binding𝓣Constraint𝓤 at 0x7fdc04057d70>"
      ]
     },
     "execution_count": 10,
     "metadata": {},
     "output_type": "execute_result"
    }
   ],
   "source": [
    "prog.AddConstraint(x[0] >= 0)\n",
    "prog.AddConstraint(x[0] - x[1] <= 0)"
   ]
  },
  {
   "cell_type": "code",
   "execution_count": 11,
   "metadata": {},
   "outputs": [
    {
     "data": {
      "text/plain": [
       "<pydrake.solvers.Binding𝓣Cost𝓤 at 0x7fdbfffc2770>"
      ]
     },
     "execution_count": 11,
     "metadata": {},
     "output_type": "execute_result"
    }
   ],
   "source": [
    "# Add a cost x(0)**2 + 3 to the total cost. Since prog doesn't have a cost before, now the total cost is x(0)**2 + 3\n",
    "prog.AddCost(x[0] ** 2 + 3)"
   ]
  },
  {
   "cell_type": "code",
   "execution_count": 12,
   "metadata": {},
   "outputs": [
    {
     "data": {
      "text/plain": [
       "<pydrake.solvers.Binding𝓣Cost𝓤 at 0x7fdbfffc2370>"
      ]
     },
     "execution_count": 12,
     "metadata": {},
     "output_type": "execute_result"
    }
   ],
   "source": [
    "prog.AddCost(x[0] + x[1])"
   ]
  },
  {
   "cell_type": "code",
   "execution_count": 13,
   "metadata": {},
   "outputs": [
    {
     "data": {
      "text/markdown": [
       "\\begin{align*}\n",
       "\\min_{x_{0}, x_{1}, dog_{0}, dog_{1}, A_{0,0}, A_{1,0}, A_{2,0}, A_{0,1}, A_{1,1}, A_{2,1}} \\quad & (x_{0} + x_{1})\\\\\n",
       " &  + (3 + x_{0}^{2})\\\\\n",
       " \\text{subject to}\\quad & \\begin{bmatrix} x_{0} \\\\ x_{1} \\end{bmatrix}^T \\begin{bmatrix} 0 & 0.500 \\\\ 0.500 & 0 \\end{bmatrix} \\begin{bmatrix} x_{0} \\\\ x_{1} \\end{bmatrix} = 1,\\\\\n",
       " & (x_{0} - x_{1}) \\le 0,\\\\\n",
       " & -0 \\le x_{0}.\\\\\n",
       "\\end{align*}\n"
      ],
      "text/plain": [
       "<IPython.core.display.Markdown object>"
      ]
     },
     "metadata": {},
     "output_type": "display_data"
    }
   ],
   "source": [
    "from IPython.display import display, Markdown\n",
    "display(Markdown(prog.ToLatex()))"
   ]
  },
  {
   "cell_type": "code",
   "execution_count": 14,
   "metadata": {},
   "outputs": [
    {
     "name": "stdout",
     "output_type": "stream",
     "text": [
      "Success?  True\n",
      "x* =  [0.4999745 0.5000255]\n",
      "optimal cost =  0.5000000013010027\n",
      "solver is:  Clarabel\n"
     ]
    }
   ],
   "source": [
    "\"\"\"\n",
    "Solves a simple optimization problem\n",
    "       min x(0)^2 + x(1)^2\n",
    "subject to x(0) + x(1) = 1\n",
    "           x(0) <= x(1)\n",
    "\"\"\"\n",
    "from pydrake.solvers import Solve\n",
    "# Set up the optimization problem.\n",
    "prog = MathematicalProgram()\n",
    "x = prog.NewContinuousVariables(2)\n",
    "prog.AddConstraint(x[0] + x[1] == 1)\n",
    "prog.AddConstraint(x[0] <= x[1])\n",
    "prog.AddCost(x[0] **2 + x[1] ** 2)\n",
    "\n",
    "# Now solve the optimization problem.\n",
    "result = Solve(prog)\n",
    "\n",
    "# print out the result.\n",
    "print(\"Success? \", result.is_success())\n",
    "# Print the solution to the decision variables.\n",
    "print('x* = ', result.GetSolution(x))\n",
    "# Print the optimal cost.\n",
    "print('optimal cost = ', result.get_optimal_cost())\n",
    "# Print the name of the solver that was called.\n",
    "print('solver is: ', result.get_solver_id().name())"
   ]
  },
  {
   "cell_type": "code",
   "execution_count": 15,
   "metadata": {},
   "outputs": [
    {
     "name": "stdout",
     "output_type": "stream",
     "text": [
      "Success?  False\n",
      "SolutionResult.kInfeasibleConstraints\n"
     ]
    }
   ],
   "source": [
    "\"\"\"\n",
    "An infeasible optimization problem.\n",
    "\"\"\"\n",
    "prog = MathematicalProgram()\n",
    "x = prog.NewContinuousVariables(1)[0]\n",
    "y = prog.NewContinuousVariables(1)[0]\n",
    "prog.AddConstraint(x + y >= 1)\n",
    "prog.AddConstraint(x + y <= 0)\n",
    "prog.AddCost(x)\n",
    "\n",
    "result = Solve(prog)\n",
    "print(\"Success? \", result.is_success())\n",
    "print(result.get_solution_result())"
   ]
  },
  {
   "cell_type": "code",
   "execution_count": 16,
   "metadata": {},
   "outputs": [
    {
     "name": "stdout",
     "output_type": "stream",
     "text": [
      "SolutionResult.kSolutionFound\n",
      "x* =  [-9.49998992e-11  1.00000000e+00]\n",
      "Solver is  IPOPT\n",
      "Ipopt solver status:  0 , meaning  Success\n"
     ]
    }
   ],
   "source": [
    "\"\"\"\n",
    "Demo on manually choosing a solver\n",
    "Solves the problem\n",
    "min x(0)\n",
    "s.t x(0) + x(1) = 1\n",
    "    0 <= x(1) <= 1\n",
    "\"\"\"\n",
    "from pydrake.solvers import IpoptSolver\n",
    "prog = MathematicalProgram()\n",
    "x = prog.NewContinuousVariables(2)\n",
    "prog.AddConstraint(x[0] + x[1] == 1)\n",
    "prog.AddConstraint(0 <= x[1])\n",
    "prog.AddConstraint(x[1] <= 1)\n",
    "prog.AddCost(x[0])\n",
    "\n",
    "# Choose IPOPT as the solver.\n",
    "# First instantiate an IPOPT solver.\n",
    "\n",
    "solver = IpoptSolver()\n",
    "# The initial guess is [1, 1]. The third argument is the options for Ipopt solver,\n",
    "# and we set no solver options.\n",
    "result = solver.Solve(prog, np.array([1, 1]), None)\n",
    "\n",
    "print(result.get_solution_result())\n",
    "print(\"x* = \", result.GetSolution(x))\n",
    "print(\"Solver is \", result.get_solver_id().name())\n",
    "print(\"Ipopt solver status: \", result.get_solver_details().status,\n",
    "      \", meaning \", result.get_solver_details().ConvertStatusToString())\n"
   ]
  },
  {
   "cell_type": "code",
   "execution_count": 17,
   "metadata": {},
   "outputs": [
    {
     "name": "stdout",
     "output_type": "stream",
     "text": [
      "SolutionResult.kSolutionFound\n",
      "x* =  [-9.50000206e-11  1.00000000e+00]\n"
     ]
    }
   ],
   "source": [
    "from pydrake.solvers import MakeSolver\n",
    "solver = MakeSolver(IpoptSolver().solver_id())\n",
    "result = solver.Solve(prog)\n",
    "print(result.get_solution_result())\n",
    "print(\"x* = \", result.GetSolution(x))"
   ]
  },
  {
   "cell_type": "code",
   "execution_count": 18,
   "metadata": {},
   "outputs": [
    {
     "name": "stdout",
     "output_type": "stream",
     "text": [
      "Ipopt solver status:  0 , meaning  Success\n"
     ]
    }
   ],
   "source": [
    "print(\"Ipopt solver status: \", result.get_solver_details().status,\n",
    "      \", meaning \", result.get_solver_details().ConvertStatusToString())"
   ]
  },
  {
   "cell_type": "code",
   "execution_count": 19,
   "metadata": {},
   "outputs": [
    {
     "data": {
      "image/png": "[encoded data removed]",
      "text/plain": [
       "<Figure size 640x480 with 1 Axes>"
      ]
     },
     "metadata": {},
     "output_type": "display_data"
    }
   ],
   "source": [
    "# Visualize the solver progress in each iteration through a callback\n",
    "# Find the closest point on a curve to a desired point.\n",
    "\n",
    "fig = plt.figure()\n",
    "curve_x = np.linspace(1, 10, 100)\n",
    "ax = plt.gca()\n",
    "ax.plot(curve_x, 9./curve_x)\n",
    "ax.plot(-curve_x, -9./curve_x)\n",
    "ax.plot(0, 0, 'o')\n",
    "x_init = [4., 5.]\n",
    "ax.plot(x_init[0], x_init[1], 'x', color='red')\n",
    "\n",
    "def update(x):\n",
    "    ax.plot(x[0], x[1], 'x', color='red')\n",
    "    \n",
    "prog = MathematicalProgram()\n",
    "x = prog.NewContinuousVariables(2)\n",
    "prog.AddConstraint(x[0] * x[1] == 9)\n",
    "prog.AddCost(x[0]**2 + x[1]**2)\n",
    "prog.AddVisualizationCallback(update, x)\n",
    "result = Solve(prog, x_init)"
   ]
  },
  {
   "cell_type": "code",
   "execution_count": null,
   "metadata": {},
   "outputs": [],
   "source": []
  }
 ],
 "metadata": {
  "kernelspec": {
   "display_name": "venv",
   "language": "python",
   "name": "python3"
  },
  "language_info": {
   "codemirror_mode": {
    "name": "ipython",
    "version": 3
   },
   "file_extension": ".py",
   "mimetype": "text/x-python",
   "name": "python",
   "nbconvert_exporter": "python",
   "pygments_lexer": "ipython3",
   "version": "3.8.10"
  }
 },
 "nbformat": 4,
 "nbformat_minor": 2
}
